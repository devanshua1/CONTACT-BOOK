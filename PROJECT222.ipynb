{
 "cells": [
  {
   "cell_type": "code",
   "execution_count": 1,
   "id": "e698944e-a511-4bc4-aa63-e4aa9c0ad3ea",
   "metadata": {},
   "outputs": [
    {
     "name": "stdout",
     "output_type": "stream",
     "text": [
      "\n",
      " CONTACT LIST BOOK\n",
      "1. create contact\n",
      "2. view contact\n",
      "3. update contact\n",
      "4. delete contact\n",
      "5. search contact\n",
      "6. total no of contacts\n",
      "7. exit\n"
     ]
    },
    {
     "name": "stdin",
     "output_type": "stream",
     "text": [
      "enter your choice: lkj\n"
     ]
    },
    {
     "name": "stdout",
     "output_type": "stream",
     "text": [
      "invalid input! please select from avove sevan option(1-7)\n",
      "\n",
      " CONTACT LIST BOOK\n",
      "1. create contact\n",
      "2. view contact\n",
      "3. update contact\n",
      "4. delete contact\n",
      "5. search contact\n",
      "6. total no of contacts\n",
      "7. exit\n"
     ]
    },
    {
     "name": "stdin",
     "output_type": "stream",
     "text": [
      "enter your choice: 1\n",
      "NAME: 1546\n",
      "age: ghy\n",
      "email: 145789\n",
      "mobile no.: lkjhuyt\n"
     ]
    },
    {
     "name": "stdout",
     "output_type": "stream",
     "text": [
      "contact name 1546 successfully created\n",
      "\n",
      " CONTACT LIST BOOK\n",
      "1. create contact\n",
      "2. view contact\n",
      "3. update contact\n",
      "4. delete contact\n",
      "5. search contact\n",
      "6. total no of contacts\n",
      "7. exit\n"
     ]
    },
    {
     "name": "stdin",
     "output_type": "stream",
     "text": [
      "enter your choice: 2\n",
      "contact name to view: 1546\n"
     ]
    },
    {
     "name": "stdout",
     "output_type": "stream",
     "text": [
      "name:1546,age:ghy,email:145789,mobile no:lkjhuyt\n",
      "\n",
      " CONTACT LIST BOOK\n",
      "1. create contact\n",
      "2. view contact\n",
      "3. update contact\n",
      "4. delete contact\n",
      "5. search contact\n",
      "6. total no of contacts\n",
      "7. exit\n"
     ]
    },
    {
     "name": "stdin",
     "output_type": "stream",
     "text": [
      "enter your choice: 2\n",
      "contact name to view: lkju\n"
     ]
    },
    {
     "name": "stdout",
     "output_type": "stream",
     "text": [
      "contact name does not exist in contact list book \n",
      "\n",
      " CONTACT LIST BOOK\n",
      "1. create contact\n",
      "2. view contact\n",
      "3. update contact\n",
      "4. delete contact\n",
      "5. search contact\n",
      "6. total no of contacts\n",
      "7. exit\n"
     ]
    },
    {
     "name": "stdin",
     "output_type": "stream",
     "text": [
      "enter your choice: 3\n",
      "enter contact name to update detail: 1546\n",
      " updated age: 856\n",
      "updated email: 00000\n",
      "updated mobile no.: gftyre\n"
     ]
    },
    {
     "name": "stdout",
     "output_type": "stream",
     "text": [
      "contact name 1546 successfully updated\n",
      "\n",
      " CONTACT LIST BOOK\n",
      "1. create contact\n",
      "2. view contact\n",
      "3. update contact\n",
      "4. delete contact\n",
      "5. search contact\n",
      "6. total no of contacts\n",
      "7. exit\n"
     ]
    },
    {
     "name": "stdin",
     "output_type": "stream",
     "text": [
      "enter your choice: 4\n",
      "enter contact name to delete: 1546\n"
     ]
    },
    {
     "name": "stdout",
     "output_type": "stream",
     "text": [
      "contacts name 1546 has been deleted successfully\n",
      "\n",
      " CONTACT LIST BOOK\n",
      "1. create contact\n",
      "2. view contact\n",
      "3. update contact\n",
      "4. delete contact\n",
      "5. search contact\n",
      "6. total no of contacts\n",
      "7. exit\n"
     ]
    },
    {
     "name": "stdin",
     "output_type": "stream",
     "text": [
      "enter your choice: 5\n",
      "enter cotacts name to search 1546\n"
     ]
    },
    {
     "name": "stdout",
     "output_type": "stream",
     "text": [
      "no contact found with that name\n",
      "\n",
      " CONTACT LIST BOOK\n",
      "1. create contact\n",
      "2. view contact\n",
      "3. update contact\n",
      "4. delete contact\n",
      "5. search contact\n",
      "6. total no of contacts\n",
      "7. exit\n"
     ]
    },
    {
     "name": "stdin",
     "output_type": "stream",
     "text": [
      "enter your choice: 6\n"
     ]
    },
    {
     "name": "stdout",
     "output_type": "stream",
     "text": [
      "total contacts in your contact book:0\n",
      "\n",
      " CONTACT LIST BOOK\n",
      "1. create contact\n",
      "2. view contact\n",
      "3. update contact\n",
      "4. delete contact\n",
      "5. search contact\n",
      "6. total no of contacts\n",
      "7. exit\n"
     ]
    },
    {
     "name": "stdin",
     "output_type": "stream",
     "text": [
      "enter your choice: 7\n"
     ]
    },
    {
     "name": "stdout",
     "output_type": "stream",
     "text": [
      "closing the CONTACT BOOK LIST\n"
     ]
    }
   ],
   "source": [
    "contacts={}                                    # Created empty dictonary to store user detail.\n",
    "while True:                                     # While loop for selecting choice.\n",
    "    print(\"\\n CONTACT LIST BOOK\")             \n",
    "    print(\"1. create contact\")\n",
    "    print(\"2. view contact\")\n",
    "    print(\"3. update contact\")                   # To ask from user to select from sevan option.\n",
    "    print(\"4. delete contact\")\n",
    "    print(\"5. search contact\")\n",
    "    print(\"6. total no of contacts\")\n",
    "    print(\"7. exit\")\n",
    "\n",
    "\n",
    "    choice=input(\"enter your choice:\")            # Ask user to select choice in string format.\n",
    "\n",
    "    if choice ==\"1\":                                          # To create contacts in dictionary contacts.   \n",
    "        name=input(\"NAME:\")\n",
    "        if name in contacts:                                 # If name already exist then print this statement. \n",
    "            print(f\"contact name {name} already exists\")\n",
    "        else:                                                # If not then else condition to create contact.   \n",
    "            age=input(\"age:\")\n",
    "            email=input(\"email:\")\n",
    "            mobile=input(\"mobile no.:\")\n",
    "            contacts[name]={\"age\":{age},\"email\":email,\"mobile no.\":{mobile}}\n",
    "            print(f\"contact name {name} successfully created\")\n",
    "\n",
    "    elif choice == \"2\":                                     # To view all cotact store in dictonary contacts .\n",
    "        name=input(\"contact name to view:\")                 # if name exist in cotact list show else that contact not exist.\n",
    "        if name in contacts:\n",
    "            cotacts=contacts[name]\n",
    "            print(f\"name:{name},age:{age},email:{email},mobile no:{mobile}\")\n",
    "        else:\n",
    "            print(\"contact name does not exist in contact list book \")\n",
    "    elif choice==\"3\":                                               # To update contact detail. \n",
    "        name =input(\"enter contact name to update detail:\")\n",
    "        if name  in contacts:\n",
    "            age=input(\" updated age:\")                             # if contact name exist in dictonary contacts it will updated. \n",
    "            email=input(\"updated email:\")                          \n",
    "            mobile=input(\"updated mobile no.:\")\n",
    "            contacts[name]={\"updated age\":age,\"email\":email,\"mobile no.\":mobile}\n",
    "            print(f\"contact name {name} successfully updated\")\n",
    "        else:                                                       # # else it will print does not exist.\n",
    "            print(\"contact name does not exist in contact list book\")\n",
    "    elif choice == \"4\":                                              # To delete contact exist in dictonary contacts.\n",
    "        name=input(\"enter contact name to delete:\")                  # if name exist in contacts dictonary then it will be deleted. \n",
    "        if name in contacts:                                         \n",
    "            del contacts[name]\n",
    "            print(f\"contacts name {name} has been deleted successfully\")\n",
    "        else:                                                         # # else that contact name does not exist.\n",
    "            print(\"contact name does not exist in contact list book\")\n",
    "         \n",
    "\n",
    "    elif choice==\"5\":                                                # To search contact in contacts.\n",
    "        search_name=input(\"enter cotacts name to search\")\n",
    "        found=False\n",
    "        for name,contact in contacts.items():                        # name,contact in contacts. if found true then print that\n",
    "            if search_name.lower() in name.lower():\n",
    "                print(f\"Found -name:{name},age:{age},mobile no:{mobile},email:{email}\")\n",
    "                found=True\n",
    "        if not found:                                                   # if not found true then print no contact found with that name.\n",
    "            print(\"no contact found with that name\")\n",
    "    elif choice==\"6\":                                                    # To find no of total contact by len. \n",
    "        print(f\"total contacts in your contact book:{len(contacts)}\")\n",
    "    elif choice==\"7\":                                                    # To close the programe \n",
    "        print(\"closing the CONTACT BOOK LIST\") \n",
    "        break                                                             # break the while loop here.\n",
    "    else:                                                                 # if input neither one of all sevan choice the else to print invalid input\n",
    "        print(\"invalid input! please select from avove sevan option(1-7)\")"
   ]
  },
  {
   "cell_type": "code",
   "execution_count": null,
   "id": "0bebd2f9-dd20-439c-af27-883ccbad49b7",
   "metadata": {},
   "outputs": [],
   "source": []
  }
 ],
 "metadata": {
  "kernelspec": {
   "display_name": "Python 3 (ipykernel)",
   "language": "python",
   "name": "python3"
  },
  "language_info": {
   "codemirror_mode": {
    "name": "ipython",
    "version": 3
   },
   "file_extension": ".py",
   "mimetype": "text/x-python",
   "name": "python",
   "nbconvert_exporter": "python",
   "pygments_lexer": "ipython3",
   "version": "3.12.4"
  }
 },
 "nbformat": 4,
 "nbformat_minor": 5
}
